{
 "cells": [
  {
   "cell_type": "code",
   "execution_count": 1,
   "metadata": {
    "collapsed": false
   },
   "outputs": [
    {
     "name": "stderr",
     "output_type": "stream",
     "text": [
      "Using TensorFlow backend.\n"
     ]
    }
   ],
   "source": [
    "# MNIST \n",
    "import keras\n",
    "from keras.datasets import mnist\n",
    "from keras.models import Sequential\n",
    "from keras.layers import Dense, Activation, Dropout\n",
    "from keras.optimizers import SGD"
   ]
  },
  {
   "cell_type": "code",
   "execution_count": 10,
   "metadata": {
    "collapsed": true
   },
   "outputs": [],
   "source": [
    "# Hyperparameters\n",
    "NB_EPOCHS = 100\n",
    "BATCH_SIZE = 128\n",
    "NB_CLASSES = 10\n",
    "VALIDATION_SPLIT = 0.2"
   ]
  },
  {
   "cell_type": "code",
   "execution_count": 3,
   "metadata": {
    "collapsed": true
   },
   "outputs": [],
   "source": [
    "# Load Data\n",
    "# X_train is 60000 rows of 28*28 values, X_test is 10000 rows of 28*28\n",
    "(X_train, y_train),(X_test, y_test) = mnist.load_data()"
   ]
  },
  {
   "cell_type": "code",
   "execution_count": 4,
   "metadata": {
    "collapsed": false
   },
   "outputs": [],
   "source": [
    "# flatten\n",
    "X_train = X_train.reshape(60000, 784)\n",
    "X_test = X_test.reshape(10000, 784)\n",
    "X_train = X_train.astype('float32')\n",
    "X_test = X_test.astype('float32')"
   ]
  },
  {
   "cell_type": "code",
   "execution_count": 5,
   "metadata": {
    "collapsed": false
   },
   "outputs": [],
   "source": [
    "# Normalize\n",
    "X_train /= 255\n",
    "X_test /= 255"
   ]
  },
  {
   "cell_type": "code",
   "execution_count": 6,
   "metadata": {
    "collapsed": false
   },
   "outputs": [],
   "source": [
    "# Convert class into one-hot encoding\n",
    "Y_train = keras.utils.to_categorical(y_train, NB_CLASSES)\n",
    "Y_test = keras.utils.to_categorical(y_test, NB_CLASSES)"
   ]
  },
  {
   "cell_type": "code",
   "execution_count": 7,
   "metadata": {
    "collapsed": false
   },
   "outputs": [],
   "source": [
    "# Build the model\n",
    "model = Sequential()\n",
    "model.add(Dense(NB_CLASSES, input_shape=(784,)))\n",
    "model.add(Activation('softmax'))"
   ]
  },
  {
   "cell_type": "code",
   "execution_count": 8,
   "metadata": {
    "collapsed": true
   },
   "outputs": [],
   "source": [
    "model.compile(loss='categorical_crossentropy',optimizer=SGD(), metrics=['accuracy'])"
   ]
  },
  {
   "cell_type": "code",
   "execution_count": 11,
   "metadata": {
    "collapsed": false
   },
   "outputs": [
    {
     "name": "stdout",
     "output_type": "stream",
     "text": [
      "Train on 60000 samples, validate on 10000 samples\n",
      "Epoch 1/100\n",
      "60000/60000 [==============================] - 1s - loss: 0.3975 - acc: 0.8927 - val_loss: 0.3744 - val_acc: 0.9014\n",
      "Epoch 2/100\n",
      "60000/60000 [==============================] - 0s - loss: 0.3902 - acc: 0.8944 - val_loss: 0.3678 - val_acc: 0.9021\n",
      "Epoch 3/100\n",
      "60000/60000 [==============================] - 0s - loss: 0.3838 - acc: 0.8958 - val_loss: 0.3626 - val_acc: 0.9036\n",
      "Epoch 4/100\n",
      "60000/60000 [==============================] - 0s - loss: 0.3782 - acc: 0.8971 - val_loss: 0.3575 - val_acc: 0.9042\n",
      "Epoch 5/100\n",
      "60000/60000 [==============================] - 0s - loss: 0.3732 - acc: 0.8982 - val_loss: 0.3528 - val_acc: 0.9051\n",
      "Epoch 6/100\n",
      "60000/60000 [==============================] - 0s - loss: 0.3687 - acc: 0.8991 - val_loss: 0.3488 - val_acc: 0.9062\n",
      "Epoch 7/100\n",
      "60000/60000 [==============================] - 0s - loss: 0.3646 - acc: 0.9001 - val_loss: 0.3454 - val_acc: 0.9066\n",
      "Epoch 8/100\n",
      "60000/60000 [==============================] - 0s - loss: 0.3609 - acc: 0.9009 - val_loss: 0.3421 - val_acc: 0.9076\n",
      "Epoch 9/100\n",
      "60000/60000 [==============================] - 0s - loss: 0.3574 - acc: 0.9019 - val_loss: 0.3394 - val_acc: 0.9089\n",
      "Epoch 10/100\n",
      "60000/60000 [==============================] - 0s - loss: 0.3543 - acc: 0.9029 - val_loss: 0.3364 - val_acc: 0.9086\n",
      "Epoch 11/100\n",
      "60000/60000 [==============================] - 0s - loss: 0.3514 - acc: 0.9034 - val_loss: 0.3338 - val_acc: 0.9098\n",
      "Epoch 12/100\n",
      "60000/60000 [==============================] - 0s - loss: 0.3486 - acc: 0.9041 - val_loss: 0.3315 - val_acc: 0.9109\n",
      "Epoch 13/100\n",
      "60000/60000 [==============================] - 0s - loss: 0.3461 - acc: 0.9049 - val_loss: 0.3293 - val_acc: 0.9114\n",
      "Epoch 14/100\n",
      "60000/60000 [==============================] - 0s - loss: 0.3438 - acc: 0.9053 - val_loss: 0.3273 - val_acc: 0.9116\n",
      "Epoch 15/100\n",
      "60000/60000 [==============================] - 0s - loss: 0.3415 - acc: 0.9061 - val_loss: 0.3254 - val_acc: 0.9122\n",
      "Epoch 16/100\n",
      "60000/60000 [==============================] - 0s - loss: 0.3394 - acc: 0.9065 - val_loss: 0.3235 - val_acc: 0.9127\n",
      "Epoch 17/100\n",
      "60000/60000 [==============================] - 0s - loss: 0.3374 - acc: 0.9070 - val_loss: 0.3219 - val_acc: 0.9132\n",
      "Epoch 18/100\n",
      "60000/60000 [==============================] - 0s - loss: 0.3356 - acc: 0.9074 - val_loss: 0.3206 - val_acc: 0.9137\n",
      "Epoch 19/100\n",
      "60000/60000 [==============================] - 0s - loss: 0.3338 - acc: 0.9079 - val_loss: 0.3190 - val_acc: 0.9143\n",
      "Epoch 20/100\n",
      "60000/60000 [==============================] - 0s - loss: 0.3321 - acc: 0.9084 - val_loss: 0.3176 - val_acc: 0.9145\n",
      "Epoch 21/100\n",
      "60000/60000 [==============================] - 0s - loss: 0.3305 - acc: 0.9087 - val_loss: 0.3162 - val_acc: 0.9150\n",
      "Epoch 22/100\n",
      "60000/60000 [==============================] - 0s - loss: 0.3290 - acc: 0.9092 - val_loss: 0.3148 - val_acc: 0.9152\n",
      "Epoch 23/100\n",
      "60000/60000 [==============================] - 0s - loss: 0.3275 - acc: 0.9094 - val_loss: 0.3135 - val_acc: 0.9155\n",
      "Epoch 24/100\n",
      "60000/60000 [==============================] - 0s - loss: 0.3261 - acc: 0.9097 - val_loss: 0.3124 - val_acc: 0.9154\n",
      "Epoch 25/100\n",
      "60000/60000 [==============================] - 0s - loss: 0.3248 - acc: 0.9102 - val_loss: 0.3113 - val_acc: 0.9157\n",
      "Epoch 26/100\n",
      "60000/60000 [==============================] - 0s - loss: 0.3235 - acc: 0.9105 - val_loss: 0.3107 - val_acc: 0.9148\n",
      "Epoch 27/100\n",
      "60000/60000 [==============================] - 0s - loss: 0.3223 - acc: 0.9108 - val_loss: 0.3094 - val_acc: 0.9162\n",
      "Epoch 28/100\n",
      "60000/60000 [==============================] - 0s - loss: 0.3211 - acc: 0.9112 - val_loss: 0.3085 - val_acc: 0.9163\n",
      "Epoch 29/100\n",
      "60000/60000 [==============================] - 0s - loss: 0.3200 - acc: 0.9117 - val_loss: 0.3074 - val_acc: 0.9160\n",
      "Epoch 30/100\n",
      "60000/60000 [==============================] - 0s - loss: 0.3189 - acc: 0.9117 - val_loss: 0.3069 - val_acc: 0.9161\n",
      "Epoch 31/100\n",
      "60000/60000 [==============================] - 0s - loss: 0.3179 - acc: 0.9121 - val_loss: 0.3059 - val_acc: 0.9161\n",
      "Epoch 32/100\n",
      "60000/60000 [==============================] - 0s - loss: 0.3169 - acc: 0.9121 - val_loss: 0.3049 - val_acc: 0.9157\n",
      "Epoch 33/100\n",
      "60000/60000 [==============================] - 0s - loss: 0.3159 - acc: 0.9124 - val_loss: 0.3043 - val_acc: 0.9160\n",
      "Epoch 34/100\n",
      "60000/60000 [==============================] - 0s - loss: 0.3149 - acc: 0.9129 - val_loss: 0.3032 - val_acc: 0.9158\n",
      "Epoch 35/100\n",
      "60000/60000 [==============================] - 0s - loss: 0.3140 - acc: 0.9127 - val_loss: 0.3026 - val_acc: 0.9163\n",
      "Epoch 36/100\n",
      "60000/60000 [==============================] - 0s - loss: 0.3131 - acc: 0.9132 - val_loss: 0.3019 - val_acc: 0.9165\n",
      "Epoch 37/100\n",
      "60000/60000 [==============================] - 0s - loss: 0.3122 - acc: 0.9135 - val_loss: 0.3011 - val_acc: 0.9160\n",
      "Epoch 38/100\n",
      "60000/60000 [==============================] - 0s - loss: 0.3115 - acc: 0.9137 - val_loss: 0.3005 - val_acc: 0.9170\n",
      "Epoch 39/100\n",
      "60000/60000 [==============================] - 0s - loss: 0.3107 - acc: 0.9139 - val_loss: 0.2999 - val_acc: 0.9169\n",
      "Epoch 40/100\n",
      "60000/60000 [==============================] - 0s - loss: 0.3099 - acc: 0.9141 - val_loss: 0.2995 - val_acc: 0.9175\n",
      "Epoch 41/100\n",
      "60000/60000 [==============================] - 0s - loss: 0.3091 - acc: 0.9142 - val_loss: 0.2987 - val_acc: 0.9175\n",
      "Epoch 42/100\n",
      "60000/60000 [==============================] - 0s - loss: 0.3084 - acc: 0.9145 - val_loss: 0.2983 - val_acc: 0.9173\n",
      "Epoch 43/100\n",
      "60000/60000 [==============================] - 0s - loss: 0.3077 - acc: 0.9146 - val_loss: 0.2976 - val_acc: 0.9171\n",
      "Epoch 44/100\n",
      "60000/60000 [==============================] - 0s - loss: 0.3069 - acc: 0.9146 - val_loss: 0.2972 - val_acc: 0.9179\n",
      "Epoch 45/100\n",
      "60000/60000 [==============================] - 0s - loss: 0.3063 - acc: 0.9149 - val_loss: 0.2965 - val_acc: 0.9173\n",
      "Epoch 46/100\n",
      "60000/60000 [==============================] - 0s - loss: 0.3056 - acc: 0.9150 - val_loss: 0.2961 - val_acc: 0.9174\n",
      "Epoch 47/100\n",
      "60000/60000 [==============================] - 0s - loss: 0.3050 - acc: 0.9153 - val_loss: 0.2955 - val_acc: 0.9178\n",
      "Epoch 48/100\n",
      "60000/60000 [==============================] - 0s - loss: 0.3044 - acc: 0.9154 - val_loss: 0.2952 - val_acc: 0.9176\n",
      "Epoch 49/100\n",
      "60000/60000 [==============================] - 0s - loss: 0.3038 - acc: 0.9157 - val_loss: 0.2947 - val_acc: 0.9180\n",
      "Epoch 50/100\n",
      "60000/60000 [==============================] - 0s - loss: 0.3031 - acc: 0.9157 - val_loss: 0.2944 - val_acc: 0.9178\n",
      "Epoch 51/100\n",
      "60000/60000 [==============================] - 0s - loss: 0.3025 - acc: 0.9159 - val_loss: 0.2939 - val_acc: 0.9177\n",
      "Epoch 52/100\n",
      "60000/60000 [==============================] - 0s - loss: 0.3020 - acc: 0.9162 - val_loss: 0.2932 - val_acc: 0.9182\n",
      "Epoch 53/100\n",
      "60000/60000 [==============================] - 0s - loss: 0.3014 - acc: 0.9160 - val_loss: 0.2929 - val_acc: 0.9185\n",
      "Epoch 54/100\n",
      "60000/60000 [==============================] - 0s - loss: 0.3009 - acc: 0.9165 - val_loss: 0.2924 - val_acc: 0.9187\n",
      "Epoch 55/100\n",
      "60000/60000 [==============================] - 0s - loss: 0.3003 - acc: 0.9165 - val_loss: 0.2924 - val_acc: 0.9181\n",
      "Epoch 56/100\n",
      "60000/60000 [==============================] - 0s - loss: 0.2999 - acc: 0.9164 - val_loss: 0.2917 - val_acc: 0.9185\n",
      "Epoch 57/100\n",
      "60000/60000 [==============================] - 0s - loss: 0.2994 - acc: 0.9165 - val_loss: 0.2912 - val_acc: 0.9183\n",
      "Epoch 58/100\n",
      "60000/60000 [==============================] - 0s - loss: 0.2989 - acc: 0.9167 - val_loss: 0.2910 - val_acc: 0.9188\n",
      "Epoch 59/100\n",
      "60000/60000 [==============================] - 0s - loss: 0.2984 - acc: 0.9169 - val_loss: 0.2909 - val_acc: 0.9189\n",
      "Epoch 60/100\n",
      "60000/60000 [==============================] - 0s - loss: 0.2979 - acc: 0.9169 - val_loss: 0.2905 - val_acc: 0.9185\n",
      "Epoch 61/100\n",
      "60000/60000 [==============================] - 0s - loss: 0.2974 - acc: 0.9171 - val_loss: 0.2901 - val_acc: 0.9191\n",
      "Epoch 62/100\n",
      "60000/60000 [==============================] - 0s - loss: 0.2969 - acc: 0.9173 - val_loss: 0.2897 - val_acc: 0.9189\n",
      "Epoch 63/100\n",
      "60000/60000 [==============================] - 0s - loss: 0.2965 - acc: 0.9173 - val_loss: 0.2898 - val_acc: 0.9186\n",
      "Epoch 64/100\n",
      "60000/60000 [==============================] - 0s - loss: 0.2960 - acc: 0.9177 - val_loss: 0.2888 - val_acc: 0.9202\n",
      "Epoch 65/100\n",
      "60000/60000 [==============================] - 0s - loss: 0.2957 - acc: 0.9177 - val_loss: 0.2887 - val_acc: 0.9197\n",
      "Epoch 66/100\n",
      "60000/60000 [==============================] - 0s - loss: 0.2952 - acc: 0.9175 - val_loss: 0.2886 - val_acc: 0.9193\n",
      "Epoch 67/100\n",
      "60000/60000 [==============================] - 0s - loss: 0.2948 - acc: 0.9176 - val_loss: 0.2882 - val_acc: 0.9192\n",
      "Epoch 68/100\n",
      "60000/60000 [==============================] - 0s - loss: 0.2944 - acc: 0.9179 - val_loss: 0.2880 - val_acc: 0.9190\n",
      "Epoch 69/100\n",
      "60000/60000 [==============================] - 0s - loss: 0.2940 - acc: 0.9182 - val_loss: 0.2874 - val_acc: 0.9194\n",
      "Epoch 70/100\n",
      "60000/60000 [==============================] - 0s - loss: 0.2936 - acc: 0.9184 - val_loss: 0.2872 - val_acc: 0.9189\n",
      "Epoch 71/100\n",
      "60000/60000 [==============================] - 0s - loss: 0.2932 - acc: 0.9183 - val_loss: 0.2871 - val_acc: 0.9198\n",
      "Epoch 72/100\n",
      "60000/60000 [==============================] - 0s - loss: 0.2929 - acc: 0.9184 - val_loss: 0.2870 - val_acc: 0.9195\n",
      "Epoch 73/100\n",
      "60000/60000 [==============================] - 0s - loss: 0.2925 - acc: 0.9185 - val_loss: 0.2865 - val_acc: 0.9207\n",
      "Epoch 74/100\n",
      "60000/60000 [==============================] - 0s - loss: 0.2921 - acc: 0.9185 - val_loss: 0.2864 - val_acc: 0.9192\n",
      "Epoch 75/100\n",
      "60000/60000 [==============================] - 0s - loss: 0.2918 - acc: 0.9187 - val_loss: 0.2862 - val_acc: 0.9196\n",
      "Epoch 76/100\n",
      "60000/60000 [==============================] - 0s - loss: 0.2914 - acc: 0.9186 - val_loss: 0.2858 - val_acc: 0.9195\n",
      "Epoch 77/100\n",
      "60000/60000 [==============================] - 0s - loss: 0.2911 - acc: 0.9189 - val_loss: 0.2856 - val_acc: 0.9200\n",
      "Epoch 78/100\n",
      "60000/60000 [==============================] - 0s - loss: 0.2907 - acc: 0.9190 - val_loss: 0.2854 - val_acc: 0.9200\n",
      "Epoch 79/100\n",
      "60000/60000 [==============================] - 0s - loss: 0.2904 - acc: 0.9194 - val_loss: 0.2851 - val_acc: 0.9202\n",
      "Epoch 80/100\n",
      "60000/60000 [==============================] - 0s - loss: 0.2901 - acc: 0.9191 - val_loss: 0.2847 - val_acc: 0.9205\n",
      "Epoch 81/100\n",
      "60000/60000 [==============================] - 0s - loss: 0.2897 - acc: 0.9193 - val_loss: 0.2849 - val_acc: 0.9201\n",
      "Epoch 82/100\n",
      "60000/60000 [==============================] - 0s - loss: 0.2894 - acc: 0.9196 - val_loss: 0.2846 - val_acc: 0.9205\n",
      "Epoch 83/100\n",
      "60000/60000 [==============================] - 0s - loss: 0.2891 - acc: 0.9196 - val_loss: 0.2841 - val_acc: 0.9207\n",
      "Epoch 84/100\n",
      "60000/60000 [==============================] - 0s - loss: 0.2888 - acc: 0.9196 - val_loss: 0.2842 - val_acc: 0.9205\n",
      "Epoch 85/100\n",
      "60000/60000 [==============================] - 0s - loss: 0.2885 - acc: 0.9196 - val_loss: 0.2840 - val_acc: 0.9209\n",
      "Epoch 86/100\n",
      "60000/60000 [==============================] - 0s - loss: 0.2882 - acc: 0.9200 - val_loss: 0.2838 - val_acc: 0.9200\n",
      "Epoch 87/100\n",
      "60000/60000 [==============================] - 0s - loss: 0.2879 - acc: 0.9201 - val_loss: 0.2835 - val_acc: 0.9206\n",
      "Epoch 88/100\n",
      "60000/60000 [==============================] - 0s - loss: 0.2876 - acc: 0.9202 - val_loss: 0.2833 - val_acc: 0.9199\n",
      "Epoch 89/100\n",
      "60000/60000 [==============================] - 0s - loss: 0.2873 - acc: 0.9202 - val_loss: 0.2831 - val_acc: 0.9205\n",
      "Epoch 90/100\n",
      "60000/60000 [==============================] - 0s - loss: 0.2870 - acc: 0.9201 - val_loss: 0.2829 - val_acc: 0.9204\n",
      "Epoch 91/100\n",
      "60000/60000 [==============================] - 0s - loss: 0.2868 - acc: 0.9203 - val_loss: 0.2825 - val_acc: 0.9209\n",
      "Epoch 92/100\n",
      "60000/60000 [==============================] - 0s - loss: 0.2865 - acc: 0.9202 - val_loss: 0.2826 - val_acc: 0.9211\n",
      "Epoch 93/100\n",
      "60000/60000 [==============================] - 0s - loss: 0.2862 - acc: 0.9207 - val_loss: 0.2823 - val_acc: 0.9208\n",
      "Epoch 94/100\n",
      "60000/60000 [==============================] - 0s - loss: 0.2859 - acc: 0.9205 - val_loss: 0.2823 - val_acc: 0.9206\n",
      "Epoch 95/100\n",
      "60000/60000 [==============================] - 0s - loss: 0.2856 - acc: 0.9207 - val_loss: 0.2818 - val_acc: 0.9205\n",
      "Epoch 96/100\n",
      "60000/60000 [==============================] - 0s - loss: 0.2854 - acc: 0.9205 - val_loss: 0.2819 - val_acc: 0.9217\n",
      "Epoch 97/100\n",
      "60000/60000 [==============================] - 0s - loss: 0.2851 - acc: 0.9210 - val_loss: 0.2819 - val_acc: 0.9207\n",
      "Epoch 98/100\n",
      "60000/60000 [==============================] - 0s - loss: 0.2849 - acc: 0.9210 - val_loss: 0.2815 - val_acc: 0.9211\n",
      "Epoch 99/100\n",
      "60000/60000 [==============================] - 0s - loss: 0.2847 - acc: 0.9209 - val_loss: 0.2814 - val_acc: 0.9214\n",
      "Epoch 100/100\n",
      "60000/60000 [==============================] - 0s - loss: 0.2844 - acc: 0.9213 - val_loss: 0.2812 - val_acc: 0.9208\n"
     ]
    }
   ],
   "source": [
    "history = model.fit(X_train, Y_train, batch_size = BATCH_SIZE, epochs = NB_EPOCHS, verbose = 1, \n",
    "                   validation_data=(X_test,Y_test))"
   ]
  },
  {
   "cell_type": "code",
   "execution_count": 12,
   "metadata": {
    "collapsed": false
   },
   "outputs": [
    {
     "name": "stdout",
     "output_type": "stream",
     "text": [
      "[0.28120596016049387, 0.92079999999999995]\n"
     ]
    }
   ],
   "source": [
    "score = model.evaluate(X_test, Y_test, verbose=0)\n",
    "print(score)"
   ]
  },
  {
   "cell_type": "code",
   "execution_count": null,
   "metadata": {
    "collapsed": true
   },
   "outputs": [],
   "source": []
  }
 ],
 "metadata": {
  "anaconda-cloud": {},
  "kernelspec": {
   "display_name": "Python [default]",
   "language": "python",
   "name": "python3"
  },
  "language_info": {
   "codemirror_mode": {
    "name": "ipython",
    "version": 3
   },
   "file_extension": ".py",
   "mimetype": "text/x-python",
   "name": "python",
   "nbconvert_exporter": "python",
   "pygments_lexer": "ipython3",
   "version": "3.5.2"
  }
 },
 "nbformat": 4,
 "nbformat_minor": 1
}
