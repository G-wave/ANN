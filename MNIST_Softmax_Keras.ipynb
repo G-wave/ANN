{
 "cells": [
  {
   "cell_type": "code",
   "execution_count": 101,
   "metadata": {
    "collapsed": false
   },
   "outputs": [],
   "source": [
    "# MNIST \n",
    "import keras\n",
    "from keras.datasets import mnist\n",
    "from keras.models import Sequential\n",
    "from keras.layers import Dense, Dropout\n",
    "from keras.optimizers import SGD"
   ]
  },
  {
   "cell_type": "code",
   "execution_count": 117,
   "metadata": {
    "collapsed": true
   },
   "outputs": [],
   "source": [
    "# Hyperparameters\n",
    "NB_EPOCHS = 10\n",
    "BATCH_SIZE = 128\n",
    "NB_CLASSES = 10\n",
    "VALIDATION_SPLIT = 0.2"
   ]
  },
  {
   "cell_type": "code",
   "execution_count": 118,
   "metadata": {
    "collapsed": true
   },
   "outputs": [],
   "source": [
    "# Load Data\n",
    "# X_train is 60000 rows of 28*28 values, X_test is 10000 rows of 28*28\n",
    "(X_train, y_train),(X_test, y_test) = mnist.load_data()"
   ]
  },
  {
   "cell_type": "code",
   "execution_count": 119,
   "metadata": {
    "collapsed": false
   },
   "outputs": [],
   "source": [
    "# flatten\n",
    "X_train = X_train.reshape(60000, 784)\n",
    "X_test = X_test.reshape(10000, 784)\n",
    "X_train = X_train.astype('float32')\n",
    "X_test = X_test.astype('float32')"
   ]
  },
  {
   "cell_type": "code",
   "execution_count": 120,
   "metadata": {
    "collapsed": false
   },
   "outputs": [],
   "source": [
    "# Normalize\n",
    "X_train /= 255\n",
    "X_test /= 255"
   ]
  },
  {
   "cell_type": "code",
   "execution_count": 121,
   "metadata": {
    "collapsed": false
   },
   "outputs": [],
   "source": [
    "# Convert class into one-hot encoding\n",
    "Y_train = keras.utils.to_categorical(y_train, NB_CLASSES)\n",
    "Y_test = keras.utils.to_categorical(y_test, NB_CLASSES)"
   ]
  },
  {
   "cell_type": "code",
   "execution_count": 122,
   "metadata": {
    "collapsed": false
   },
   "outputs": [],
   "source": [
    "# Build the model\n",
    "model = Sequential()\n",
    "model.add(Dense(NB_CLASSES, input_shape=(784,)))\n",
    "model.add(Activation('softmax'))"
   ]
  },
  {
   "cell_type": "code",
   "execution_count": 123,
   "metadata": {
    "collapsed": true
   },
   "outputs": [],
   "source": [
    "model.compile(loss='categorical_crossentropy',optimizer=SGD(), metrics=['accuracy'])"
   ]
  },
  {
   "cell_type": "code",
   "execution_count": 124,
   "metadata": {
    "collapsed": false
   },
   "outputs": [
    {
     "name": "stdout",
     "output_type": "stream",
     "text": [
      "Train on 60000 samples, validate on 10000 samples\n",
      "Epoch 1/10\n",
      "60000/60000 [==============================] - 0s - loss: 1.2996 - acc: 0.6929 - val_loss: 0.8174 - val_acc: 0.8276\n",
      "Epoch 2/10\n",
      "60000/60000 [==============================] - 0s - loss: 0.7203 - acc: 0.8380 - val_loss: 0.6105 - val_acc: 0.8619\n",
      "Epoch 3/10\n",
      "60000/60000 [==============================] - 0s - loss: 0.5896 - acc: 0.8588 - val_loss: 0.5278 - val_acc: 0.8731\n",
      "Epoch 4/10\n",
      "60000/60000 [==============================] - 0s - loss: 0.5271 - acc: 0.8683 - val_loss: 0.4821 - val_acc: 0.8798\n",
      "Epoch 5/10\n",
      "60000/60000 [==============================] - 0s - loss: 0.4892 - acc: 0.8750 - val_loss: 0.4520 - val_acc: 0.8848\n",
      "Epoch 6/10\n",
      "60000/60000 [==============================] - 0s - loss: 0.4631 - acc: 0.8798 - val_loss: 0.4300 - val_acc: 0.8890\n",
      "Epoch 7/10\n",
      "60000/60000 [==============================] - 0s - loss: 0.4438 - acc: 0.8829 - val_loss: 0.4139 - val_acc: 0.8911\n",
      "Epoch 8/10\n",
      "60000/60000 [==============================] - 0s - loss: 0.4287 - acc: 0.8858 - val_loss: 0.4009 - val_acc: 0.8942\n",
      "Epoch 9/10\n",
      "60000/60000 [==============================] - 0s - loss: 0.4166 - acc: 0.8884 - val_loss: 0.3904 - val_acc: 0.8970\n",
      "Epoch 10/10\n",
      "60000/60000 [==============================] - 0s - loss: 0.4065 - acc: 0.8901 - val_loss: 0.3815 - val_acc: 0.8993\n"
     ]
    }
   ],
   "source": [
    "history = model.fit(X_train, Y_train, batch_size = BATCH_SIZE, epochs = NB_EPOCHS, verbose = 1, \n",
    "                   validation_data=(X_test,Y_test))"
   ]
  },
  {
   "cell_type": "code",
   "execution_count": 125,
   "metadata": {
    "collapsed": false
   },
   "outputs": [
    {
     "name": "stdout",
     "output_type": "stream",
     "text": [
      "[0.38151845836639403, 0.89929999999999999]\n"
     ]
    }
   ],
   "source": [
    "score = model.evaluate(X_test, Y_test, verbose=0)\n",
    "print(score)"
   ]
  },
  {
   "cell_type": "code",
   "execution_count": null,
   "metadata": {
    "collapsed": true
   },
   "outputs": [],
   "source": []
  }
 ],
 "metadata": {
  "anaconda-cloud": {},
  "kernelspec": {
   "display_name": "Python [default]",
   "language": "python",
   "name": "python3"
  },
  "language_info": {
   "codemirror_mode": {
    "name": "ipython",
    "version": 3
   },
   "file_extension": ".py",
   "mimetype": "text/x-python",
   "name": "python",
   "nbconvert_exporter": "python",
   "pygments_lexer": "ipython3",
   "version": "3.5.2"
  }
 },
 "nbformat": 4,
 "nbformat_minor": 1
}
