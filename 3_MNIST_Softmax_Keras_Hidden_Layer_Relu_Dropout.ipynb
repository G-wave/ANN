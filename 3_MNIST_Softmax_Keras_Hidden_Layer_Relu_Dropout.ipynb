{
 "cells": [
  {
   "cell_type": "code",
   "execution_count": 4,
   "metadata": {
    "collapsed": false
   },
   "outputs": [
    {
     "name": "stderr",
     "output_type": "stream",
     "text": [
      "Using TensorFlow backend.\n"
     ]
    }
   ],
   "source": [
    "# MNIST \n",
    "import keras\n",
    "from keras.datasets import mnist\n",
    "from keras.models import Sequential\n",
    "from keras.layers import Dense, Dropout\n",
    "from keras.optimizers import SGD"
   ]
  },
  {
   "cell_type": "code",
   "execution_count": 5,
   "metadata": {
    "collapsed": true
   },
   "outputs": [],
   "source": [
    "# Hyperparameters\n",
    "NB_EPOCHS = 20\n",
    "BATCH_SIZE = 128\n",
    "NB_CLASSES = 10\n",
    "VALIDATION_SPLIT = 0.2"
   ]
  },
  {
   "cell_type": "code",
   "execution_count": 6,
   "metadata": {
    "collapsed": false
   },
   "outputs": [],
   "source": [
    "# Load Data\n",
    "# X_train is 60000 rows of 28*28 values, X_test is 10000 rows of 28*28\n",
    "(X_train, y_train),(X_test, y_test) = mnist.load_data()"
   ]
  },
  {
   "cell_type": "code",
   "execution_count": 7,
   "metadata": {
    "collapsed": false
   },
   "outputs": [],
   "source": [
    "# flatten\n",
    "X_train = X_train.reshape(60000, 784)\n",
    "X_test = X_test.reshape(10000, 784)\n",
    "X_train = X_train.astype('float32')\n",
    "X_test = X_test.astype('float32')"
   ]
  },
  {
   "cell_type": "code",
   "execution_count": 8,
   "metadata": {
    "collapsed": false
   },
   "outputs": [],
   "source": [
    "# Normalize\n",
    "X_train /= 255\n",
    "X_test /= 255"
   ]
  },
  {
   "cell_type": "code",
   "execution_count": 9,
   "metadata": {
    "collapsed": false
   },
   "outputs": [],
   "source": [
    "# Convert class into one-hot encoding\n",
    "Y_train = keras.utils.to_categorical(y_train, NB_CLASSES)\n",
    "Y_test = keras.utils.to_categorical(y_test, NB_CLASSES)"
   ]
  },
  {
   "cell_type": "code",
   "execution_count": 10,
   "metadata": {
    "collapsed": false
   },
   "outputs": [],
   "source": [
    "# Build the model\n",
    "model = Sequential()\n",
    "model.add(Dense(512, activation='relu', input_shape=(784,)))\n",
    "model.add(Dropout(0.2))\n",
    "model.add(Dense(512, activation='relu'))\n",
    "model.add(Dense(512, activation='relu'))\n",
    "model.add(Dropout(0.2))\n",
    "model.add(Dense(10, activation='softmax'))"
   ]
  },
  {
   "cell_type": "code",
   "execution_count": 11,
   "metadata": {
    "collapsed": true
   },
   "outputs": [],
   "source": [
    "model.compile(loss='categorical_crossentropy',optimizer=SGD(), metrics=['accuracy'])"
   ]
  },
  {
   "cell_type": "code",
   "execution_count": 12,
   "metadata": {
    "collapsed": false
   },
   "outputs": [
    {
     "name": "stdout",
     "output_type": "stream",
     "text": [
      "Train on 60000 samples, validate on 10000 samples\n",
      "Epoch 1/20\n",
      "60000/60000 [==============================] - 7s - loss: 1.3341 - acc: 0.6475 - val_loss: 0.5327 - val_acc: 0.8706\n",
      "Epoch 2/20\n",
      "60000/60000 [==============================] - 7s - loss: 0.5134 - acc: 0.8532 - val_loss: 0.3513 - val_acc: 0.9027\n",
      "Epoch 3/20\n",
      "60000/60000 [==============================] - 7s - loss: 0.3983 - acc: 0.8844 - val_loss: 0.2970 - val_acc: 0.9154\n",
      "Epoch 4/20\n",
      "60000/60000 [==============================] - 7s - loss: 0.3474 - acc: 0.8983 - val_loss: 0.2655 - val_acc: 0.9235\n",
      "Epoch 5/20\n",
      "60000/60000 [==============================] - 7s - loss: 0.3158 - acc: 0.9079 - val_loss: 0.2435 - val_acc: 0.9297\n",
      "Epoch 6/20\n",
      "60000/60000 [==============================] - 7s - loss: 0.2873 - acc: 0.9161 - val_loss: 0.2243 - val_acc: 0.9350\n",
      "Epoch 7/20\n",
      "60000/60000 [==============================] - 7s - loss: 0.2692 - acc: 0.9209 - val_loss: 0.2107 - val_acc: 0.9385\n",
      "Epoch 8/20\n",
      "60000/60000 [==============================] - 7s - loss: 0.2468 - acc: 0.9278 - val_loss: 0.1960 - val_acc: 0.9424\n",
      "Epoch 9/20\n",
      "60000/60000 [==============================] - 7s - loss: 0.2328 - acc: 0.9316 - val_loss: 0.1858 - val_acc: 0.9442\n",
      "Epoch 10/20\n",
      "60000/60000 [==============================] - 7s - loss: 0.2174 - acc: 0.9363 - val_loss: 0.1746 - val_acc: 0.9468\n",
      "Epoch 11/20\n",
      "60000/60000 [==============================] - 7s - loss: 0.2079 - acc: 0.9385 - val_loss: 0.1681 - val_acc: 0.9484\n",
      "Epoch 12/20\n",
      "60000/60000 [==============================] - 7s - loss: 0.1954 - acc: 0.9424 - val_loss: 0.1582 - val_acc: 0.9518\n",
      "Epoch 13/20\n",
      "60000/60000 [==============================] - 7s - loss: 0.1860 - acc: 0.9460 - val_loss: 0.1512 - val_acc: 0.9530\n",
      "Epoch 14/20\n",
      "60000/60000 [==============================] - 7s - loss: 0.1767 - acc: 0.9481 - val_loss: 0.1445 - val_acc: 0.9556\n",
      "Epoch 15/20\n",
      "60000/60000 [==============================] - 7s - loss: 0.1700 - acc: 0.9499 - val_loss: 0.1384 - val_acc: 0.9572\n",
      "Epoch 16/20\n",
      "60000/60000 [==============================] - 7s - loss: 0.1620 - acc: 0.9521 - val_loss: 0.1343 - val_acc: 0.9580\n",
      "Epoch 17/20\n",
      "60000/60000 [==============================] - 7s - loss: 0.1554 - acc: 0.9539 - val_loss: 0.1290 - val_acc: 0.9589\n",
      "Epoch 18/20\n",
      "60000/60000 [==============================] - 7s - loss: 0.1493 - acc: 0.9564 - val_loss: 0.1244 - val_acc: 0.9608\n",
      "Epoch 19/20\n",
      "60000/60000 [==============================] - 7s - loss: 0.1424 - acc: 0.9580 - val_loss: 0.1207 - val_acc: 0.9616\n",
      "Epoch 20/20\n",
      "60000/60000 [==============================] - 7s - loss: 0.1383 - acc: 0.9598 - val_loss: 0.1166 - val_acc: 0.9625\n"
     ]
    }
   ],
   "source": [
    "history = model.fit(X_train, Y_train, batch_size = BATCH_SIZE, epochs = NB_EPOCHS, verbose = 1, \n",
    "                   validation_data=(X_test,Y_test))"
   ]
  },
  {
   "cell_type": "code",
   "execution_count": 13,
   "metadata": {
    "collapsed": false
   },
   "outputs": [
    {
     "name": "stdout",
     "output_type": "stream",
     "text": [
      "[0.11656077982950956, 0.96250000000000002]\n"
     ]
    }
   ],
   "source": [
    "score = model.evaluate(X_test, Y_test, verbose=0)\n",
    "print(score)"
   ]
  },
  {
   "cell_type": "code",
   "execution_count": null,
   "metadata": {
    "collapsed": true
   },
   "outputs": [],
   "source": []
  }
 ],
 "metadata": {
  "anaconda-cloud": {},
  "kernelspec": {
   "display_name": "Python [default]",
   "language": "python",
   "name": "python3"
  },
  "language_info": {
   "codemirror_mode": {
    "name": "ipython",
    "version": 3
   },
   "file_extension": ".py",
   "mimetype": "text/x-python",
   "name": "python",
   "nbconvert_exporter": "python",
   "pygments_lexer": "ipython3",
   "version": "3.5.2"
  }
 },
 "nbformat": 4,
 "nbformat_minor": 1
}
