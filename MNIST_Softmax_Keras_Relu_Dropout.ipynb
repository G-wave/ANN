{
 "cells": [
  {
   "cell_type": "code",
   "execution_count": 4,
   "metadata": {
    "collapsed": false
   },
   "outputs": [
    {
     "name": "stderr",
     "output_type": "stream",
     "text": [
      "Using TensorFlow backend.\n"
     ]
    }
   ],
   "source": [
    "# MNIST \n",
    "import keras\n",
    "from keras.datasets import mnist\n",
    "from keras.models import Sequential\n",
    "from keras.layers import Dense, Dropout\n",
    "from keras.optimizers import SGD"
   ]
  },
  {
   "cell_type": "code",
   "execution_count": 5,
   "metadata": {
    "collapsed": true
   },
   "outputs": [],
   "source": [
    "# Hyperparameters\n",
    "NB_EPOCHS = 10\n",
    "BATCH_SIZE = 128\n",
    "NB_CLASSES = 10\n",
    "VALIDATION_SPLIT = 0.2"
   ]
  },
  {
   "cell_type": "code",
   "execution_count": 6,
   "metadata": {
    "collapsed": false
   },
   "outputs": [],
   "source": [
    "# Load Data\n",
    "# X_train is 60000 rows of 28*28 values, X_test is 10000 rows of 28*28\n",
    "(X_train, y_train),(X_test, y_test) = mnist.load_data()"
   ]
  },
  {
   "cell_type": "code",
   "execution_count": 7,
   "metadata": {
    "collapsed": false
   },
   "outputs": [],
   "source": [
    "# flatten\n",
    "X_train = X_train.reshape(60000, 784)\n",
    "X_test = X_test.reshape(10000, 784)\n",
    "X_train = X_train.astype('float32')\n",
    "X_test = X_test.astype('float32')"
   ]
  },
  {
   "cell_type": "code",
   "execution_count": 8,
   "metadata": {
    "collapsed": false
   },
   "outputs": [],
   "source": [
    "# Normalize\n",
    "X_train /= 255\n",
    "X_test /= 255"
   ]
  },
  {
   "cell_type": "code",
   "execution_count": 9,
   "metadata": {
    "collapsed": false
   },
   "outputs": [],
   "source": [
    "# Convert class into one-hot encoding\n",
    "Y_train = keras.utils.to_categorical(y_train, NB_CLASSES)\n",
    "Y_test = keras.utils.to_categorical(y_test, NB_CLASSES)"
   ]
  },
  {
   "cell_type": "code",
   "execution_count": 13,
   "metadata": {
    "collapsed": false
   },
   "outputs": [],
   "source": [
    "# Build the model\n",
    "model = Sequential()\n",
    "model.add(Dense(512, activation='relu', input_shape=(784,)))\n",
    "model.add(Dropout(0.2))\n",
    "model.add(Dense(512, activation='relu'))\n",
    "model.add(Dropout(0.2))\n",
    "model.add(Dense(10, activation='softmax'))"
   ]
  },
  {
   "cell_type": "code",
   "execution_count": 14,
   "metadata": {
    "collapsed": true
   },
   "outputs": [],
   "source": [
    "model.compile(loss='categorical_crossentropy',optimizer=SGD(), metrics=['accuracy'])"
   ]
  },
  {
   "cell_type": "code",
   "execution_count": 15,
   "metadata": {
    "collapsed": false
   },
   "outputs": [
    {
     "name": "stdout",
     "output_type": "stream",
     "text": [
      "Train on 60000 samples, validate on 10000 samples\n",
      "Epoch 1/10\n",
      "60000/60000 [==============================] - 5s - loss: 1.2348 - acc: 0.6793 - val_loss: 0.5500 - val_acc: 0.8655\n",
      "Epoch 2/10\n",
      "60000/60000 [==============================] - 5s - loss: 0.5363 - acc: 0.8479 - val_loss: 0.3768 - val_acc: 0.8968\n",
      "Epoch 3/10\n",
      "60000/60000 [==============================] - 5s - loss: 0.4277 - acc: 0.8766 - val_loss: 0.3226 - val_acc: 0.9100\n",
      "Epoch 4/10\n",
      "60000/60000 [==============================] - 5s - loss: 0.3758 - acc: 0.8915 - val_loss: 0.2935 - val_acc: 0.9179\n",
      "Epoch 5/10\n",
      "60000/60000 [==============================] - 5s - loss: 0.3435 - acc: 0.9000 - val_loss: 0.2722 - val_acc: 0.9227\n",
      "Epoch 6/10\n",
      "60000/60000 [==============================] - 5s - loss: 0.3205 - acc: 0.9066 - val_loss: 0.2545 - val_acc: 0.9282\n",
      "Epoch 7/10\n",
      "60000/60000 [==============================] - 5s - loss: 0.2994 - acc: 0.9136 - val_loss: 0.2400 - val_acc: 0.9336\n",
      "Epoch 8/10\n",
      "60000/60000 [==============================] - 5s - loss: 0.2842 - acc: 0.9171 - val_loss: 0.2291 - val_acc: 0.9348\n",
      "Epoch 9/10\n",
      "60000/60000 [==============================] - 5s - loss: 0.2679 - acc: 0.9229 - val_loss: 0.2191 - val_acc: 0.9373\n",
      "Epoch 10/10\n",
      "60000/60000 [==============================] - 5s - loss: 0.2550 - acc: 0.9265 - val_loss: 0.2067 - val_acc: 0.9409\n"
     ]
    }
   ],
   "source": [
    "history = model.fit(X_train, Y_train, batch_size = BATCH_SIZE, epochs = NB_EPOCHS, verbose = 1, \n",
    "                   validation_data=(X_test,Y_test))"
   ]
  },
  {
   "cell_type": "code",
   "execution_count": 125,
   "metadata": {
    "collapsed": false
   },
   "outputs": [
    {
     "name": "stdout",
     "output_type": "stream",
     "text": [
      "[0.38151845836639403, 0.89929999999999999]\n"
     ]
    }
   ],
   "source": [
    "score = model.evaluate(X_test, Y_test, verbose=0)\n",
    "print(score)"
   ]
  },
  {
   "cell_type": "code",
   "execution_count": null,
   "metadata": {
    "collapsed": true
   },
   "outputs": [],
   "source": []
  }
 ],
 "metadata": {
  "anaconda-cloud": {},
  "kernelspec": {
   "display_name": "Python [default]",
   "language": "python",
   "name": "python3"
  },
  "language_info": {
   "codemirror_mode": {
    "name": "ipython",
    "version": 3
   },
   "file_extension": ".py",
   "mimetype": "text/x-python",
   "name": "python",
   "nbconvert_exporter": "python",
   "pygments_lexer": "ipython3",
   "version": "3.5.2"
  }
 },
 "nbformat": 4,
 "nbformat_minor": 1
}
