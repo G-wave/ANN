{
 "cells": [
  {
   "cell_type": "code",
   "execution_count": 1,
   "metadata": {
    "collapsed": false
   },
   "outputs": [
    {
     "name": "stderr",
     "output_type": "stream",
     "text": [
      "Using TensorFlow backend.\n"
     ]
    }
   ],
   "source": [
    "# MNIST \n",
    "import keras\n",
    "from keras.datasets import mnist\n",
    "from keras.models import Sequential\n",
    "from keras.layers import Dense, Dropout\n",
    "from keras.optimizers import SGD, adam"
   ]
  },
  {
   "cell_type": "code",
   "execution_count": 2,
   "metadata": {
    "collapsed": true
   },
   "outputs": [],
   "source": [
    "# Hyperparameters\n",
    "NB_EPOCHS = 20\n",
    "BATCH_SIZE = 128\n",
    "NB_CLASSES = 10\n",
    "VALIDATION_SPLIT = 0.2"
   ]
  },
  {
   "cell_type": "code",
   "execution_count": 3,
   "metadata": {
    "collapsed": false
   },
   "outputs": [],
   "source": [
    "# Load Data\n",
    "# X_train is 60000 rows of 28*28 values, X_test is 10000 rows of 28*28\n",
    "(X_train, y_train),(X_test, y_test) = mnist.load_data()"
   ]
  },
  {
   "cell_type": "code",
   "execution_count": 4,
   "metadata": {
    "collapsed": false
   },
   "outputs": [],
   "source": [
    "# flatten\n",
    "X_train = X_train.reshape(60000, 784)\n",
    "X_test = X_test.reshape(10000, 784)\n",
    "X_train = X_train.astype('float32')\n",
    "X_test = X_test.astype('float32')"
   ]
  },
  {
   "cell_type": "code",
   "execution_count": 5,
   "metadata": {
    "collapsed": false
   },
   "outputs": [],
   "source": [
    "# Normalize\n",
    "X_train /= 255\n",
    "X_test /= 255"
   ]
  },
  {
   "cell_type": "code",
   "execution_count": 6,
   "metadata": {
    "collapsed": false
   },
   "outputs": [],
   "source": [
    "# Convert class into one-hot encoding\n",
    "Y_train = keras.utils.to_categorical(y_train, NB_CLASSES)\n",
    "Y_test = keras.utils.to_categorical(y_test, NB_CLASSES)"
   ]
  },
  {
   "cell_type": "code",
   "execution_count": 7,
   "metadata": {
    "collapsed": false
   },
   "outputs": [],
   "source": [
    "# Build the model\n",
    "model = Sequential()\n",
    "model.add(Dense(512, activation='relu', input_shape=(784,)))\n",
    "model.add(Dropout(0.2))\n",
    "model.add(Dense(512, activation='relu'))\n",
    "model.add(Dense(512, activation='relu'))\n",
    "model.add(Dropout(0.2))\n",
    "model.add(Dense(10, activation='softmax'))"
   ]
  },
  {
   "cell_type": "code",
   "execution_count": 8,
   "metadata": {
    "collapsed": false
   },
   "outputs": [],
   "source": [
    "model.compile(loss='categorical_crossentropy',optimizer=adam(), metrics=['accuracy'])"
   ]
  },
  {
   "cell_type": "code",
   "execution_count": 9,
   "metadata": {
    "collapsed": false
   },
   "outputs": [
    {
     "name": "stdout",
     "output_type": "stream",
     "text": [
      "Train on 60000 samples, validate on 10000 samples\n",
      "Epoch 1/20\n",
      "60000/60000 [==============================] - 9s - loss: 0.2449 - acc: 0.9244 - val_loss: 0.1150 - val_acc: 0.9624\n",
      "Epoch 2/20\n",
      "60000/60000 [==============================] - 9s - loss: 0.1038 - acc: 0.9688 - val_loss: 0.0928 - val_acc: 0.9714\n",
      "Epoch 3/20\n",
      "60000/60000 [==============================] - 9s - loss: 0.0753 - acc: 0.9768 - val_loss: 0.0759 - val_acc: 0.9771\n",
      "Epoch 4/20\n",
      "60000/60000 [==============================] - 9s - loss: 0.0608 - acc: 0.9808 - val_loss: 0.0670 - val_acc: 0.9787\n",
      "Epoch 5/20\n",
      "60000/60000 [==============================] - 9s - loss: 0.0518 - acc: 0.9835 - val_loss: 0.0738 - val_acc: 0.9780\n",
      "Epoch 6/20\n",
      "60000/60000 [==============================] - 9s - loss: 0.0420 - acc: 0.9867 - val_loss: 0.0787 - val_acc: 0.9788\n",
      "Epoch 7/20\n",
      "60000/60000 [==============================] - 9s - loss: 0.0404 - acc: 0.9872 - val_loss: 0.0621 - val_acc: 0.9830\n",
      "Epoch 8/20\n",
      "60000/60000 [==============================] - 9s - loss: 0.0372 - acc: 0.9881 - val_loss: 0.0642 - val_acc: 0.9817\n",
      "Epoch 9/20\n",
      "60000/60000 [==============================] - 9s - loss: 0.0307 - acc: 0.9901 - val_loss: 0.0650 - val_acc: 0.9822\n",
      "Epoch 10/20\n",
      "60000/60000 [==============================] - 9s - loss: 0.0301 - acc: 0.9901 - val_loss: 0.0644 - val_acc: 0.9831\n",
      "Epoch 11/20\n",
      "60000/60000 [==============================] - 9s - loss: 0.0264 - acc: 0.9912 - val_loss: 0.0762 - val_acc: 0.9821\n",
      "Epoch 12/20\n",
      "60000/60000 [==============================] - 9s - loss: 0.0247 - acc: 0.9920 - val_loss: 0.0775 - val_acc: 0.9819\n",
      "Epoch 13/20\n",
      "60000/60000 [==============================] - 9s - loss: 0.0221 - acc: 0.9932 - val_loss: 0.0820 - val_acc: 0.9815\n",
      "Epoch 14/20\n",
      "60000/60000 [==============================] - 9s - loss: 0.0232 - acc: 0.9924 - val_loss: 0.0730 - val_acc: 0.9814\n",
      "Epoch 15/20\n",
      "60000/60000 [==============================] - 9s - loss: 0.0202 - acc: 0.9934 - val_loss: 0.0818 - val_acc: 0.9831\n",
      "Epoch 16/20\n",
      "60000/60000 [==============================] - 9s - loss: 0.0230 - acc: 0.9930 - val_loss: 0.0721 - val_acc: 0.9829\n",
      "Epoch 17/20\n",
      "60000/60000 [==============================] - 9s - loss: 0.0214 - acc: 0.9933 - val_loss: 0.0706 - val_acc: 0.9816\n",
      "Epoch 18/20\n",
      "60000/60000 [==============================] - 9s - loss: 0.0157 - acc: 0.9948 - val_loss: 0.0765 - val_acc: 0.9821\n",
      "Epoch 19/20\n",
      "60000/60000 [==============================] - 8s - loss: 0.0185 - acc: 0.9940 - val_loss: 0.0732 - val_acc: 0.9843\n",
      "Epoch 20/20\n",
      "60000/60000 [==============================] - 8s - loss: 0.0171 - acc: 0.9943 - val_loss: 0.0787 - val_acc: 0.9837\n"
     ]
    }
   ],
   "source": [
    "history = model.fit(X_train, Y_train, batch_size = BATCH_SIZE, epochs = NB_EPOCHS, verbose = 1, \n",
    "                   validation_data=(X_test,Y_test))"
   ]
  },
  {
   "cell_type": "code",
   "execution_count": 13,
   "metadata": {
    "collapsed": false
   },
   "outputs": [
    {
     "name": "stdout",
     "output_type": "stream",
     "text": [
      "[0.11656077982950956, 0.96250000000000002]\n"
     ]
    }
   ],
   "source": [
    "score = model.evaluate(X_test, Y_test, verbose=0)\n",
    "print(score)"
   ]
  },
  {
   "cell_type": "code",
   "execution_count": null,
   "metadata": {
    "collapsed": true
   },
   "outputs": [],
   "source": []
  }
 ],
 "metadata": {
  "anaconda-cloud": {},
  "kernelspec": {
   "display_name": "Python [default]",
   "language": "python",
   "name": "python3"
  },
  "language_info": {
   "codemirror_mode": {
    "name": "ipython",
    "version": 3
   },
   "file_extension": ".py",
   "mimetype": "text/x-python",
   "name": "python",
   "nbconvert_exporter": "python",
   "pygments_lexer": "ipython3",
   "version": "3.5.2"
  }
 },
 "nbformat": 4,
 "nbformat_minor": 1
}
