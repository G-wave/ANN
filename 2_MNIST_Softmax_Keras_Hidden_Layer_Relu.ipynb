{
 "cells": [
  {
   "cell_type": "code",
   "execution_count": 1,
   "metadata": {
    "collapsed": false
   },
   "outputs": [
    {
     "name": "stderr",
     "output_type": "stream",
     "text": [
      "Using TensorFlow backend.\n"
     ]
    }
   ],
   "source": [
    "# MNIST \n",
    "import keras\n",
    "from keras.datasets import mnist\n",
    "from keras.models import Sequential\n",
    "from keras.layers import Dense, Dropout\n",
    "from keras.optimizers import SGD"
   ]
  },
  {
   "cell_type": "code",
   "execution_count": 64,
   "metadata": {
    "collapsed": true
   },
   "outputs": [],
   "source": [
    "# Hyperparameters\n",
    "NB_EPOCHS = 20\n",
    "BATCH_SIZE = 128\n",
    "NB_CLASSES = 10\n",
    "VALIDATION_SPLIT = 0.2"
   ]
  },
  {
   "cell_type": "code",
   "execution_count": 56,
   "metadata": {
    "collapsed": false
   },
   "outputs": [],
   "source": [
    "# Load Data\n",
    "# X_train is 60000 rows of 28*28 values, X_test is 10000 rows of 28*28\n",
    "(X_train, y_train),(X_test, y_test) = mnist.load_data()"
   ]
  },
  {
   "cell_type": "code",
   "execution_count": 57,
   "metadata": {
    "collapsed": false
   },
   "outputs": [],
   "source": [
    "# flatten\n",
    "X_train = X_train.reshape(60000, 784)\n",
    "X_test = X_test.reshape(10000, 784)\n",
    "X_train = X_train.astype('float32')\n",
    "X_test = X_test.astype('float32')"
   ]
  },
  {
   "cell_type": "code",
   "execution_count": 58,
   "metadata": {
    "collapsed": false
   },
   "outputs": [],
   "source": [
    "# Normalize\n",
    "X_train /= 255\n",
    "X_test /= 255"
   ]
  },
  {
   "cell_type": "code",
   "execution_count": 59,
   "metadata": {
    "collapsed": false
   },
   "outputs": [],
   "source": [
    "# Convert class into one-hot encoding\n",
    "Y_train = keras.utils.to_categorical(y_train, NB_CLASSES)\n",
    "Y_test = keras.utils.to_categorical(y_test, NB_CLASSES)"
   ]
  },
  {
   "cell_type": "code",
   "execution_count": 65,
   "metadata": {
    "collapsed": false
   },
   "outputs": [],
   "source": [
    "# Build the model\n",
    "model = Sequential()\n",
    "\n",
    "model.add(Dense(512, activation='relu', input_shape=(784,)))\n",
    "\n",
    "model.add(Dense(512, activation='relu'))\n",
    "\n",
    "model.add(Dense(10, activation='softmax'))"
   ]
  },
  {
   "cell_type": "code",
   "execution_count": 66,
   "metadata": {
    "collapsed": true
   },
   "outputs": [],
   "source": [
    "model.compile(loss='categorical_crossentropy',optimizer=SGD(), metrics=['accuracy'])"
   ]
  },
  {
   "cell_type": "code",
   "execution_count": 67,
   "metadata": {
    "collapsed": false
   },
   "outputs": [
    {
     "name": "stdout",
     "output_type": "stream",
     "text": [
      "Train on 60000 samples, validate on 10000 samples\n",
      "Epoch 1/20\n",
      "60000/60000 [==============================] - 4s - loss: 1.1161 - acc: 0.7569 - val_loss: 0.5183 - val_acc: 0.8783\n",
      "Epoch 2/20\n",
      "60000/60000 [==============================] - 4s - loss: 0.4447 - acc: 0.8844 - val_loss: 0.3662 - val_acc: 0.9034\n",
      "Epoch 3/20\n",
      "60000/60000 [==============================] - 4s - loss: 0.3552 - acc: 0.9019 - val_loss: 0.3164 - val_acc: 0.9136\n",
      "Epoch 4/20\n",
      "60000/60000 [==============================] - 4s - loss: 0.3149 - acc: 0.9110 - val_loss: 0.2878 - val_acc: 0.9201\n",
      "Epoch 5/20\n",
      "60000/60000 [==============================] - 4s - loss: 0.2893 - acc: 0.9187 - val_loss: 0.2691 - val_acc: 0.9247\n",
      "Epoch 6/20\n",
      "60000/60000 [==============================] - 4s - loss: 0.2700 - acc: 0.9238 - val_loss: 0.2525 - val_acc: 0.9297\n",
      "Epoch 7/20\n",
      "60000/60000 [==============================] - 4s - loss: 0.2542 - acc: 0.9283 - val_loss: 0.2395 - val_acc: 0.9331\n",
      "Epoch 8/20\n",
      "60000/60000 [==============================] - 4s - loss: 0.2408 - acc: 0.9319 - val_loss: 0.2295 - val_acc: 0.9355\n",
      "Epoch 9/20\n",
      "60000/60000 [==============================] - 4s - loss: 0.2289 - acc: 0.9354 - val_loss: 0.2198 - val_acc: 0.9379\n",
      "Epoch 10/20\n",
      "60000/60000 [==============================] - 4s - loss: 0.2185 - acc: 0.9386 - val_loss: 0.2112 - val_acc: 0.9396\n",
      "Epoch 11/20\n",
      "60000/60000 [==============================] - 4s - loss: 0.2090 - acc: 0.9413 - val_loss: 0.2016 - val_acc: 0.9430\n",
      "Epoch 12/20\n",
      "60000/60000 [==============================] - 4s - loss: 0.2002 - acc: 0.9439 - val_loss: 0.1954 - val_acc: 0.9447\n",
      "Epoch 13/20\n",
      "60000/60000 [==============================] - 4s - loss: 0.1926 - acc: 0.9458 - val_loss: 0.1871 - val_acc: 0.9464\n",
      "Epoch 14/20\n",
      "60000/60000 [==============================] - 4s - loss: 0.1849 - acc: 0.9482 - val_loss: 0.1833 - val_acc: 0.9477\n",
      "Epoch 15/20\n",
      "60000/60000 [==============================] - 4s - loss: 0.1781 - acc: 0.9501 - val_loss: 0.1754 - val_acc: 0.9489\n",
      "Epoch 16/20\n",
      "60000/60000 [==============================] - 4s - loss: 0.1716 - acc: 0.9515 - val_loss: 0.1714 - val_acc: 0.9505\n",
      "Epoch 17/20\n",
      "60000/60000 [==============================] - 4s - loss: 0.1657 - acc: 0.9533 - val_loss: 0.1654 - val_acc: 0.9527\n",
      "Epoch 18/20\n",
      "60000/60000 [==============================] - 4s - loss: 0.1602 - acc: 0.9548 - val_loss: 0.1599 - val_acc: 0.9524\n",
      "Epoch 19/20\n",
      "60000/60000 [==============================] - 4s - loss: 0.1547 - acc: 0.9566 - val_loss: 0.1557 - val_acc: 0.9538\n",
      "Epoch 20/20\n",
      "60000/60000 [==============================] - 4s - loss: 0.1497 - acc: 0.9575 - val_loss: 0.1539 - val_acc: 0.9542\n"
     ]
    }
   ],
   "source": [
    "history = model.fit(X_train, Y_train, batch_size = BATCH_SIZE, epochs = NB_EPOCHS, verbose = 1, \n",
    "                   validation_data=(X_test,Y_test))"
   ]
  },
  {
   "cell_type": "code",
   "execution_count": 68,
   "metadata": {
    "collapsed": false
   },
   "outputs": [
    {
     "name": "stdout",
     "output_type": "stream",
     "text": [
      "[0.15385822554752229, 0.95420000000000005]\n"
     ]
    }
   ],
   "source": [
    "score = model.evaluate(X_test, Y_test, verbose=0)\n",
    "print(score)"
   ]
  },
  {
   "cell_type": "code",
   "execution_count": null,
   "metadata": {
    "collapsed": true
   },
   "outputs": [],
   "source": []
  }
 ],
 "metadata": {
  "anaconda-cloud": {},
  "kernelspec": {
   "display_name": "Python [default]",
   "language": "python",
   "name": "python3"
  },
  "language_info": {
   "codemirror_mode": {
    "name": "ipython",
    "version": 3
   },
   "file_extension": ".py",
   "mimetype": "text/x-python",
   "name": "python",
   "nbconvert_exporter": "python",
   "pygments_lexer": "ipython3",
   "version": "3.5.2"
  }
 },
 "nbformat": 4,
 "nbformat_minor": 1
}
